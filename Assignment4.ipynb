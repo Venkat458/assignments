{
  "nbformat": 4,
  "nbformat_minor": 0,
  "metadata": {
    "kernelspec": {
      "display_name": "Python 3",
      "language": "python",
      "name": "python3"
    },
    "language_info": {
      "codemirror_mode": {
        "name": "ipython",
        "version": 3
      },
      "file_extension": ".py",
      "mimetype": "text/x-python",
      "name": "python",
      "nbconvert_exporter": "python",
      "pygments_lexer": "ipython3",
      "version": "3.6.3"
    },
    "colab": {
      "name": "Assignment4.ipynb",
      "provenance": [],
      "collapsed_sections": [],
      "include_colab_link": true
    }
  },
  "cells": [
    {
      "cell_type": "markdown",
      "metadata": {
        "id": "view-in-github",
        "colab_type": "text"
      },
      "source": [
        "<a href=\"https://colab.research.google.com/github/Venkat458/assignments/blob/main/Assignment4.ipynb\" target=\"_parent\"><img src=\"https://colab.research.google.com/assets/colab-badge.svg\" alt=\"Open In Colab\"/></a>"
      ]
    },
    {
      "cell_type": "markdown",
      "metadata": {
        "id": "8zyAYXr29xSk"
      },
      "source": [
        "1.1 Write a Python Program(with class concepts) to find the area of the triangle using the below\n",
        "formula.\n",
        "area = (s*(s-a)*(s-b)*(s-c)) ** 0.5\n",
        "Function to take the length of the sides of triangle from user should be defined in the parent\n",
        "class and function to calculate the area should be defined in subclass.\n",
        "\n",
        "1.2 Write a function filter_long_words() that takes a list of words and an integer n and returns\n",
        "the list of words that are longer than n.\n",
        "\n",
        "2.1 Write a Python program using function concept that maps list of words into a list of integers\n",
        "representing the lengths of the corresponding words.\n",
        "Hint: If a list [ ab,cde,erty] is passed on to the python function output should come as [2,3,4]\n",
        "Here 2,3 and 4 are the lengths of the words in the list.\n",
        "\n",
        "2.2 Write a Python function which takes a character (i.e. a string of length 1) and returns True if\n",
        "it is a vowel, False otherwise."
      ]
    },
    {
      "cell_type": "code",
      "metadata": {
        "id": "1MPEbWqS9xSu",
        "outputId": "f26c6f34-3ec5-49af-f16c-ec14741af4a3"
      },
      "source": [
        "import math\n",
        "class length:\n",
        "    def input_area(self):\n",
        "        self.a=eval(input('enter length of one side'))\n",
        "        self.b=eval(input('enter length of second side'))\n",
        "        self.c=eval(input('enter length of third side'))\n",
        "\n",
        "class area_class(length):\n",
        "    def area_value(self):\n",
        "        super().input_area()\n",
        "        s=(self.a+self.b+self.c)/2\n",
        "        area=math.sqrt(s*self.a*self.b*self.c)\n",
        "        print(area)\n",
        "\n",
        "obj=area_class()\n",
        "obj.area_value()\n",
        "\n",
        "\n",
        "    \n",
        "        "
      ],
      "execution_count": null,
      "outputs": [
        {
          "output_type": "stream",
          "text": [
            "enter length of one side10\n",
            "enter length of second side20\n",
            "enter length of third side30\n",
            "424.26406871192853\n"
          ],
          "name": "stdout"
        }
      ]
    },
    {
      "cell_type": "code",
      "metadata": {
        "id": "rii9MzZh9xSz",
        "outputId": "aa90fef3-f174-43ff-c16a-23575ffbf71b"
      },
      "source": [
        "def filter_long_words(words,integer):\n",
        "    #first parameter is list of words and second is integer.\n",
        "    #first we have to find the length of each word and if greater than given integer add it to the new list.\n",
        "    new_list=[]\n",
        "    for word in words:\n",
        "        if len(word)>integer:\n",
        "            new_list.append(word)\n",
        "     #all words having length greater than given integer are stored in new_list, will return it to the calling variable.\n",
        "    return new_list\n",
        "\n",
        "list_words=[\"text\",\"program\",\"digits\",\"example\"]\n",
        "integer_value=4\n",
        "Words_More_Length=filter_long_words(list_words,integer_value)\n",
        "print(Words_More_Length,type(Words_More_Length))"
      ],
      "execution_count": null,
      "outputs": [
        {
          "output_type": "stream",
          "text": [
            "['program', 'digits', 'example'] <class 'list'>\n"
          ],
          "name": "stdout"
        }
      ]
    },
    {
      "cell_type": "code",
      "metadata": {
        "id": "gu_cXF-X9xS0",
        "outputId": "70f833c6-8989-4127-9639-efb970d40de6"
      },
      "source": [
        "def length_words(words,integer):\n",
        "    #first parameter is list of words and second is integer.\n",
        "    #first we have to find the length of each word and if greater than given integer add it to the new list.\n",
        "    new_list=[]\n",
        "    for word in words:\n",
        "        new_list.append(len(word))\n",
        "     #all words having length greater than given integer are stored in new_list, will return it to the calling variable.\n",
        "    return new_list\n",
        "\n",
        "list_words=[\"text\",\"program\",\"digits\",\"example\"]\n",
        "integer_value=4\n",
        "Words_Length=length_words(list_words,integer_value)\n",
        "print(Words_Length,type(Words_Length))"
      ],
      "execution_count": null,
      "outputs": [
        {
          "output_type": "stream",
          "text": [
            "[4, 7, 6, 7] <class 'list'>\n"
          ],
          "name": "stdout"
        }
      ]
    },
    {
      "cell_type": "code",
      "metadata": {
        "id": "Icy5cnNR9xS2",
        "outputId": "c136e220-994e-4a12-ea53-2ec8613e0df0"
      },
      "source": [
        "def vowel(char):\n",
        "    vowels=['a','e','i','o','u']\n",
        "    if char.lower() in vowels:\n",
        "        return True\n",
        "    else:\n",
        "        return False\n",
        "vowel('A')"
      ],
      "execution_count": null,
      "outputs": [
        {
          "output_type": "execute_result",
          "data": {
            "text/plain": [
              "True"
            ]
          },
          "metadata": {
            "tags": []
          },
          "execution_count": 13
        }
      ]
    },
    {
      "cell_type": "code",
      "metadata": {
        "id": "lHj96SEh9xS3",
        "outputId": "c226a983-e0ef-48af-c3ad-104ccb794e15"
      },
      "source": [
        ""
      ],
      "execution_count": null,
      "outputs": [
        {
          "output_type": "stream",
          "text": [
            "enter length of one side10\n",
            "10\n"
          ],
          "name": "stdout"
        }
      ]
    }
  ]
}