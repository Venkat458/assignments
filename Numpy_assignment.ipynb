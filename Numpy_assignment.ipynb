{
  "nbformat": 4,
  "nbformat_minor": 0,
  "metadata": {
    "kernelspec": {
      "display_name": "Python 3",
      "language": "python",
      "name": "python3"
    },
    "language_info": {
      "codemirror_mode": {
        "name": "ipython",
        "version": 3
      },
      "file_extension": ".py",
      "mimetype": "text/x-python",
      "name": "python",
      "nbconvert_exporter": "python",
      "pygments_lexer": "ipython3",
      "version": "3.6.3"
    },
    "colab": {
      "name": "Numpy assignment.ipynb",
      "provenance": [],
      "collapsed_sections": [],
      "include_colab_link": true
    }
  },
  "cells": [
    {
      "cell_type": "markdown",
      "metadata": {
        "id": "view-in-github",
        "colab_type": "text"
      },
      "source": [
        "<a href=\"https://colab.research.google.com/github/Venkat458/assignments/blob/main/Numpy_assignment.ipynb\" target=\"_parent\"><img src=\"https://colab.research.google.com/assets/colab-badge.svg\" alt=\"Open In Colab\"/></a>"
      ]
    },
    {
      "cell_type": "markdown",
      "metadata": {
        "id": "GOFev-cITthi"
      },
      "source": [
        "Write a function so that the columns of the output matrix are powers of the input vector.                                   \n",
        "The order of the powers is determined by the increasing boolean argument. Specifically, when increasing is False, the i-th output column is the input vector raised element-wise to the power of N - i - 1.                                       \n",
        "HINT: Such a matrix with a geometric progression in each row is named for Alexandre-Theophile Vandermonde.\n"
      ]
    },
    {
      "cell_type": "code",
      "metadata": {
        "collapsed": true,
        "id": "5Do-x6yRTths"
      },
      "source": [
        "import numpy as np"
      ],
      "execution_count": 1,
      "outputs": []
    },
    {
      "cell_type": "code",
      "metadata": {
        "collapsed": true,
        "id": "a7rpNjPBTtht"
      },
      "source": [
        "y=np.array([1,2,3,4])"
      ],
      "execution_count": 2,
      "outputs": []
    },
    {
      "cell_type": "code",
      "metadata": {
        "id": "KvDvrSFxTthw"
      },
      "source": [
        "#np.column_stack((y,y))"
      ],
      "execution_count": 3,
      "outputs": []
    },
    {
      "cell_type": "code",
      "metadata": {
        "id": "kxNNub5PTthw"
      },
      "source": [
        "#N=3\n",
        "#np.column_stack([y**(N-i-1) for i in range(N)])"
      ],
      "execution_count": 4,
      "outputs": []
    },
    {
      "cell_type": "code",
      "metadata": {
        "colab": {
          "base_uri": "https://localhost:8080/"
        },
        "id": "0fT7331dTthx",
        "outputId": "99e8ae95-4ead-4541-9351-b13becb459e5"
      },
      "source": [
        "def col_stack(in1,in2,in3):\n",
        "    #in1 is input array,in2 is N value,in3 is boolean if increasing is false or true.\n",
        "    N=in2\n",
        "    if in3==True:\n",
        "        return np.column_stack([in1**i for i in range(N)])\n",
        "    else:\n",
        "        return np.column_stack([in1**(N-i-1) for i in range(N) ])\n",
        "\n",
        "col_stack(y,6,True)"
      ],
      "execution_count": 5,
      "outputs": [
        {
          "output_type": "execute_result",
          "data": {
            "text/plain": [
              "array([[   1,    1,    1,    1,    1,    1],\n",
              "       [   1,    2,    4,    8,   16,   32],\n",
              "       [   1,    3,    9,   27,   81,  243],\n",
              "       [   1,    4,   16,   64,  256, 1024]])"
            ]
          },
          "metadata": {
            "tags": []
          },
          "execution_count": 5
        }
      ]
    },
    {
      "cell_type": "code",
      "metadata": {
        "colab": {
          "base_uri": "https://localhost:8080/"
        },
        "id": "ZKltRyu4Tthy",
        "outputId": "bd44332f-6884-41ae-db56-270d0fceb328"
      },
      "source": [
        "col_stack(y,4,False)"
      ],
      "execution_count": 6,
      "outputs": [
        {
          "output_type": "execute_result",
          "data": {
            "text/plain": [
              "array([[ 1,  1,  1,  1],\n",
              "       [ 8,  4,  2,  1],\n",
              "       [27,  9,  3,  1],\n",
              "       [64, 16,  4,  1]])"
            ]
          },
          "metadata": {
            "tags": []
          },
          "execution_count": 6
        }
      ]
    },
    {
      "cell_type": "markdown",
      "metadata": {
        "id": "njYjyAoMTthz"
      },
      "source": [
        "Problem Statement 2:\n",
        "Given a sequence of n values x1, x2, ..., xn and a window size k>0, the k-th moving average of the given sequence is defined as follows:\n",
        "The moving average sequence has n-k+1 elements as shown below.                                                                  \n",
        "The moving averages with k=4 of a ten-value sequence (n=10) is shown below i 1 2 3 4 5 6 7 8 9 10                                \n",
        "===== == == == == == == == == == ==                                                                                            \n",
        "Input 10 20 30 40 50 60 70 80 90 100                                                                                          \n",
        "y1 25 = (10+20+30+40)/4                                                                                                \n",
        "y2 35 = (20+30+40+50)/4                                                                                                            \n",
        "y3 45 = (30+40+50+60)/4                                                                                                       \n",
        "y4 55 = (40+50+60+70)/4                                                                                                             \n",
        "y5 65 = (50+60+70+80)/4                                                                                                       \n",
        "y6 75 = (60+70+80+90)/4                                                                                                          \n",
        "y7 85 = (70+80+90+100)/4                                                                                                           \n",
        "Thus, the moving average sequence has n-k+1=10-4+1=7 values.                                                                     \n",
        "Question: Write a function to find moving average in an array over a window:                                                      \n",
        "Test it over [3, 5, 7, 2, 8, 10, 11, 65, 72, 81, 99, 100, 150] and window of 3.                    "
      ]
    },
    {
      "cell_type": "code",
      "metadata": {
        "id": "6hGcjWTxTth0"
      },
      "source": [
        "n=13\n",
        "k=3\n",
        "sequence=np.array([3, 5, 7, 2, 8, 10, 11, 65, 72, 81, 99, 100, 150])"
      ],
      "execution_count": 7,
      "outputs": []
    },
    {
      "cell_type": "code",
      "metadata": {
        "colab": {
          "base_uri": "https://localhost:8080/"
        },
        "id": "tLB7O0RJTth1",
        "outputId": "a6d2d063-91b9-4f26-d829-6ab20eb4af87"
      },
      "source": [
        "def moving_averages(n,k,sequence):\n",
        "    averages=[]\n",
        "    for i in range(0,n-k+1):\n",
        "        #print(i)\n",
        "        print(sequence[i:i+k],np.mean(sequence[i:i+k]))\n",
        "        averages.append(np.mean(sequence[i:i+k]))\n",
        "    return np.array(averages)    \n",
        "        \n",
        "        \n",
        "        \n",
        "moving_averages(n,k,sequence)"
      ],
      "execution_count": 8,
      "outputs": [
        {
          "output_type": "stream",
          "text": [
            "[3 5 7] 5.0\n",
            "[5 7 2] 4.666666666666667\n",
            "[7 2 8] 5.666666666666667\n",
            "[ 2  8 10] 6.666666666666667\n",
            "[ 8 10 11] 9.666666666666666\n",
            "[10 11 65] 28.666666666666668\n",
            "[11 65 72] 49.333333333333336\n",
            "[65 72 81] 72.66666666666667\n",
            "[72 81 99] 84.0\n",
            "[ 81  99 100] 93.33333333333333\n",
            "[ 99 100 150] 116.33333333333333\n"
          ],
          "name": "stdout"
        },
        {
          "output_type": "execute_result",
          "data": {
            "text/plain": [
              "array([  5.        ,   4.66666667,   5.66666667,   6.66666667,\n",
              "         9.66666667,  28.66666667,  49.33333333,  72.66666667,\n",
              "        84.        ,  93.33333333, 116.33333333])"
            ]
          },
          "metadata": {
            "tags": []
          },
          "execution_count": 8
        }
      ]
    },
    {
      "cell_type": "code",
      "metadata": {
        "collapsed": true,
        "id": "B0g8g58tTth1"
      },
      "source": [
        ""
      ],
      "execution_count": null,
      "outputs": []
    }
  ]
}