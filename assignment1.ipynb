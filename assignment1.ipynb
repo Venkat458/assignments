{
  "nbformat": 4,
  "nbformat_minor": 0,
  "metadata": {
    "kernelspec": {
      "display_name": "Python 3",
      "language": "python",
      "name": "python3"
    },
    "language_info": {
      "codemirror_mode": {
        "name": "ipython",
        "version": 3
      },
      "file_extension": ".py",
      "mimetype": "text/x-python",
      "name": "python",
      "nbconvert_exporter": "python",
      "pygments_lexer": "ipython3",
      "version": "3.6.3"
    },
    "colab": {
      "name": "assignment1.ipynb",
      "provenance": [],
      "collapsed_sections": [],
      "include_colab_link": true
    }
  },
  "cells": [
    {
      "cell_type": "markdown",
      "metadata": {
        "id": "view-in-github",
        "colab_type": "text"
      },
      "source": [
        "<a href=\"https://colab.research.google.com/github/Venkat458/assignments/blob/main/assignment1.ipynb\" target=\"_parent\"><img src=\"https://colab.research.google.com/assets/colab-badge.svg\" alt=\"Open In Colab\"/></a>"
      ]
    },
    {
      "cell_type": "markdown",
      "metadata": {
        "id": "6uQUPbnUUvpw"
      },
      "source": [
        "1. Write a program which will find all such numbers which are divisible by 7 but are not a multiple of 5,\n",
        "between 2000 and 3200 (both included). The numbers obtained should be printed\n",
        "in a comma-separated sequence on a single line.\n",
        "\n"
      ]
    },
    {
      "cell_type": "code",
      "metadata": {
        "colab": {
          "base_uri": "https://localhost:8080/"
        },
        "id": "cOxsX6HPUvpw",
        "outputId": "d1046866-5432-4701-80af-9cdcc6980f35"
      },
      "source": [
        "# range is between 2000 and 3201 as 3200 should be included.\n",
        "for y in range(2000,3201):\n",
        "    # should be a multiple of 7 but not a multiple of 5.\n",
        "    if y%7==0 and y%5!=0:\n",
        "        #print values in a single line with comma seperated.\n",
        "        print(y,end=',')"
      ],
      "execution_count": null,
      "outputs": [
        {
          "output_type": "stream",
          "text": [
            "2002,2009,2016,2023,2037,2044,2051,2058,2072,2079,2086,2093,2107,2114,2121,2128,2142,2149,2156,2163,2177,2184,2191,2198,2212,2219,2226,2233,2247,2254,2261,2268,2282,2289,2296,2303,2317,2324,2331,2338,2352,2359,2366,2373,2387,2394,2401,2408,2422,2429,2436,2443,2457,2464,2471,2478,2492,2499,2506,2513,2527,2534,2541,2548,2562,2569,2576,2583,2597,2604,2611,2618,2632,2639,2646,2653,2667,2674,2681,2688,2702,2709,2716,2723,2737,2744,2751,2758,2772,2779,2786,2793,2807,2814,2821,2828,2842,2849,2856,2863,2877,2884,2891,2898,2912,2919,2926,2933,2947,2954,2961,2968,2982,2989,2996,3003,3017,3024,3031,3038,3052,3059,3066,3073,3087,3094,3101,3108,3122,3129,3136,3143,3157,3164,3171,3178,3192,3199,"
          ],
          "name": "stdout"
        }
      ]
    },
    {
      "cell_type": "markdown",
      "metadata": {
        "id": "lH7FsoTwUvpz"
      },
      "source": [
        "2.. Write a Python program to accept the user's first and last name and then getting them printed in the the reverse order with a space between first name and last name.\n",
        "\n"
      ]
    },
    {
      "cell_type": "code",
      "metadata": {
        "colab": {
          "base_uri": "https://localhost:8080/"
        },
        "id": "ITUqc-zsUvpz",
        "outputId": "a38fbff6-1e41-44c7-c803-0a7078d417bd"
      },
      "source": [
        "#prompt the user to enter his first and last names\n",
        "name_first=input('enter your first name')\n",
        "name_last=input('enter your last name')\n",
        "print(name_last[::-1]+' '+name_first[::-1])"
      ],
      "execution_count": null,
      "outputs": [
        {
          "output_type": "stream",
          "text": [
            "enter your first namecode\n",
            "enter your last nameupload\n",
            "daolpu edoc\n"
          ],
          "name": "stdout"
        }
      ]
    },
    {
      "cell_type": "markdown",
      "metadata": {
        "id": "rjUfhMDrUvp0"
      },
      "source": [
        "3.. Write a Python program to find the volume of a sphere with diameter 12 cm.\n",
        "   Formula: V=4/3 * π * r 3"
      ]
    },
    {
      "cell_type": "code",
      "metadata": {
        "colab": {
          "base_uri": "https://localhost:8080/"
        },
        "id": "4XpDFDXQUvp0",
        "outputId": "56cce41c-f4ac-4527-ceae-3dc03c21fdaa"
      },
      "source": [
        "from math import pi\n",
        "#as pi is constant present in math library imported it from math library.\n",
        "#or we can consider 22/7 as well directly.\n",
        "diametr = 12\n",
        "radius = diametr/2\n",
        "Volume = (4/3)*pi*(radius**3)\n",
        "print(Volume)\n"
      ],
      "execution_count": null,
      "outputs": [
        {
          "output_type": "stream",
          "text": [
            "904.7786842338603\n"
          ],
          "name": "stdout"
        }
      ]
    }
  ]
}