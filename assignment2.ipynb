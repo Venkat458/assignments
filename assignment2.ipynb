{
  "nbformat": 4,
  "nbformat_minor": 0,
  "metadata": {
    "kernelspec": {
      "display_name": "Python 3",
      "language": "python",
      "name": "python3"
    },
    "language_info": {
      "codemirror_mode": {
        "name": "ipython",
        "version": 3
      },
      "file_extension": ".py",
      "mimetype": "text/x-python",
      "name": "python",
      "nbconvert_exporter": "python",
      "pygments_lexer": "ipython3",
      "version": "3.6.3"
    },
    "colab": {
      "name": "assignment2.ipynb",
      "provenance": [],
      "include_colab_link": true
    }
  },
  "cells": [
    {
      "cell_type": "markdown",
      "metadata": {
        "id": "view-in-github",
        "colab_type": "text"
      },
      "source": [
        "<a href=\"https://colab.research.google.com/github/Venkat458/assignments/blob/main/assignment2.ipynb\" target=\"_parent\"><img src=\"https://colab.research.google.com/assets/colab-badge.svg\" alt=\"Open In Colab\"/></a>"
      ]
    },
    {
      "cell_type": "markdown",
      "metadata": {
        "id": "LvvLEq_Fdv3i"
      },
      "source": [
        "1. Create the below pattern using nested for loop in Python.\n",
        "\n",
        "*\n",
        "* *\n",
        "* * *\n",
        "* * * *\n",
        "* * * * *\n",
        "* * * *\n",
        "* * *\n",
        "* *\n",
        "*\n",
        "\n",
        "\n"
      ]
    },
    {
      "cell_type": "code",
      "metadata": {
        "colab": {
          "base_uri": "https://localhost:8080/"
        },
        "id": "3vB3CcJxdv3j",
        "outputId": "ab4e564d-0195-4f5e-d125-60a6b9b5d5b0"
      },
      "source": [
        "n=5\n",
        "for i in range(n):\n",
        "    # until i=5, it should print same number of * so loop through it i times and after 5 it should decrease.\n",
        "    for j in range(0,i+1):\n",
        "        # for printing in same line after each iteration of i.   \n",
        "        print('*',end=' ')\n",
        "    # for printing new line after each iteration of i. \n",
        "    print() \n",
        "for i in range(n):\n",
        "    for j in range(n-(i+1),0,-1):\n",
        "        print('*',end=' ')\n",
        "    print()\n",
        "\n",
        "#Can be written in simple for loop as well... \n",
        "#n=5\n",
        "#for i in range(n):\n",
        "#    print('* '*(i+1))\n",
        "\n",
        "#for i in range(n):\n",
        "#    print('* '*(5-1-i))\n",
        "    \n",
        "    "
      ],
      "execution_count": 1,
      "outputs": [
        {
          "output_type": "stream",
          "text": [
            "* \n",
            "* * \n",
            "* * * \n",
            "* * * * \n",
            "* * * * * \n",
            "* * * * \n",
            "* * * \n",
            "* * \n",
            "* \n",
            "\n"
          ],
          "name": "stdout"
        }
      ]
    },
    {
      "cell_type": "markdown",
      "metadata": {
        "id": "LlHnnUJ8dv3l"
      },
      "source": [
        "2.. Write a Python program to reverse a word after accepting the input from the user."
      ]
    },
    {
      "cell_type": "code",
      "metadata": {
        "colab": {
          "base_uri": "https://localhost:8080/"
        },
        "id": "9pZB-nugdv3l",
        "outputId": "4f534948-4c79-4a96-f0d4-91cabec6ce04"
      },
      "source": [
        "word=input('please enter a string ')\n",
        "print(word[::-1])\n",
        "# In one line, we can write as print(input(' ')[::-1])"
      ],
      "execution_count": 2,
      "outputs": [
        {
          "output_type": "stream",
          "text": [
            "please enter a string string\n",
            "gnirts\n"
          ],
          "name": "stdout"
        }
      ]
    }
  ]
}